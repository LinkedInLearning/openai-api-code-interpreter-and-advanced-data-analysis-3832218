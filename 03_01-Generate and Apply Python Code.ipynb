{
 "cells": [
  {
   "cell_type": "markdown",
   "id": "caa8cd98",
   "metadata": {},
   "source": [
    "# OpenAI API: Code Interpreter and Advanced Data Analysis\n",
    "## 03_01 - Generate and Apply Python Code"
   ]
  },
  {
   "cell_type": "markdown",
   "id": "b126d991",
   "metadata": {},
   "source": [
    "### Install the necessary libraries. "
   ]
  },
  {
   "cell_type": "code",
   "execution_count": null,
   "id": "cbb7c175",
   "metadata": {},
   "outputs": [],
   "source": [
    "pip install openai"
   ]
  },
  {
   "cell_type": "code",
   "execution_count": null,
   "id": "bc699e7c",
   "metadata": {},
   "outputs": [],
   "source": [
    "pip install openai[datalib]"
   ]
  },
  {
   "cell_type": "code",
   "execution_count": null,
   "id": "c1615b50",
   "metadata": {},
   "outputs": [],
   "source": [
    "pip install urllib3==1.26.6 "
   ]
  },
  {
   "cell_type": "code",
   "execution_count": null,
   "id": "646f69d3",
   "metadata": {},
   "outputs": [],
   "source": [
    "pip install python-dotenv"
   ]
  },
  {
   "cell_type": "markdown",
   "id": "ee48e61b",
   "metadata": {},
   "source": [
    "### Import the libraries and environment file to gain access to the Open API Key\n",
    "#### The key can be generated here: https://platform.openai.com/account/api-keys"
   ]
  },
  {
   "cell_type": "code",
   "execution_count": 1,
   "id": "70841de5",
   "metadata": {},
   "outputs": [],
   "source": [
    "#import OS, OpenAI, and time modules\n",
    "import openai\n",
    "import os\n",
    "from openai import OpenAI\n",
    "import time\n",
    "\n",
    "from dotenv import load_dotenv, find_dotenv\n",
    "_ = load_dotenv(find_dotenv()) # read local .env file"
   ]
  },
  {
   "cell_type": "markdown",
   "id": "e5387008",
   "metadata": {},
   "source": [
    "### Authenticate to the API using the API Key\n",
    "#### Pull from environment variables or use api_key = (\"your_key_here\") to hardcode the key"
   ]
  },
  {
   "cell_type": "code",
   "execution_count": 2,
   "id": "7cf566e0",
   "metadata": {},
   "outputs": [],
   "source": [
    "client = OpenAI(\n",
    "  api_key=os.environ['OPENAI_API_KEY']  \n",
    ")"
   ]
  },
  {
   "cell_type": "markdown",
   "id": "1ef4193c",
   "metadata": {},
   "source": [
    "### Helper function to upload Excel file"
   ]
  },
  {
   "cell_type": "code",
   "execution_count": 3,
   "id": "8c7a8f50",
   "metadata": {},
   "outputs": [],
   "source": [
    "def upload_file(path):\n",
    "    try:\n",
    "        file = client.files.create(\n",
    "            file=open(path, \"rb\"),\n",
    "            purpose='assistants'\n",
    "        )\n",
    "        \n",
    "        return file.id\n",
    "    except Exception as e:\n",
    "        print(e)\n",
    "        return e"
   ]
  },
  {
   "cell_type": "markdown",
   "id": "5b982429",
   "metadata": {},
   "source": [
    "### Helper function to setup an Assistant\n",
    "#### The Assistant is a Coding Bot\n",
    "Code Interpreter allows the Assistants API to write and run Python code in a sandboxed execution environment."
   ]
  },
  {
   "cell_type": "code",
   "execution_count": 4,
   "id": "8c8e934c",
   "metadata": {},
   "outputs": [],
   "source": [
    "def create_assistant(file_id):\n",
    "    try:\n",
    "        assistant = client.beta.assistants.create(\n",
    "            name = \"Coding Bot\",\n",
    "            instructions='''Generate a file, always. You are an expert Python developer.\n",
    "                           When asked a to solve a query, you write and run code to \n",
    "                           answer the question. Make the file id available for download.''',\n",
    "            model=\"gpt-4-1106-preview\",\n",
    "            tools=[{\"type\": \"code_interpreter\"}],\n",
    "            file_ids=[file_id]\n",
    "        )\n",
    "        \n",
    "        return assistant.id\n",
    "    except openai.APIError as e:\n",
    "        print(e.http_status)\n",
    "        print(e.error)\n",
    "        return e.error "
   ]
  },
  {
   "cell_type": "markdown",
   "id": "f849998c",
   "metadata": {},
   "source": [
    "### Helper function to create a thread to query an Assistant"
   ]
  },
  {
   "cell_type": "code",
   "execution_count": 5,
   "id": "659c994f",
   "metadata": {},
   "outputs": [],
   "source": [
    "def query_assistant(assistant_id, user_query):\n",
    "    try:\n",
    "        thread = client.beta.threads.create(\n",
    "            messages=[\n",
    "                {\n",
    "                \"role\": \"user\",\n",
    "                \"content\": user_query\n",
    "                }\n",
    "            ]\n",
    "        )\n",
    "        \n",
    "        return thread.id\n",
    "    except openai.APIError as e:\n",
    "        print(e.http_status)\n",
    "        print(e.error)\n",
    "        return e.error"
   ]
  },
  {
   "cell_type": "markdown",
   "id": "f476d406",
   "metadata": {},
   "source": [
    "### Helper function to create a run object to execute the thread"
   ]
  },
  {
   "cell_type": "code",
   "execution_count": 6,
   "id": "8aca0ded",
   "metadata": {},
   "outputs": [],
   "source": [
    "def run(assistant_id, thread_id):\n",
    "    try:\n",
    "        run = client.beta.threads.runs.create(\n",
    "            thread_id=thread_id,\n",
    "            assistant_id=assistant_id\n",
    "        )\n",
    "        \n",
    "        time.sleep(10)\n",
    "        \n",
    "        while True:\n",
    "            print(f'{run.id=} {run.status=}')\n",
    "\n",
    "            run = client.beta.threads.runs.retrieve(\n",
    "                thread_id=thread_id,\n",
    "                run_id=run.id\n",
    "            )\n",
    "\n",
    "            status = run.status\n",
    "\n",
    "            if status == 'completed':\n",
    "                break\n",
    "            else:\n",
    "                time.sleep(10) \n",
    "\n",
    "        print(f'{run.id=} {run.status=}')\n",
    "        \n",
    "        #retrieve the messages \n",
    "        messages = client.beta.threads.messages.list(\n",
    "            thread_id=thread_id\n",
    "        )\n",
    "\n",
    "   \n",
    "        return messages\n",
    "        \n",
    "    except openai.APIError as e:\n",
    "        print(e.http_status)\n",
    "        print(e.error)\n",
    "        return e.error"
   ]
  },
  {
   "cell_type": "markdown",
   "id": "b648f6bc",
   "metadata": {},
   "source": [
    "### Read in the data file"
   ]
  },
  {
   "cell_type": "code",
   "execution_count": 7,
   "id": "57120e80",
   "metadata": {},
   "outputs": [
    {
     "name": "stdout",
     "output_type": "stream",
     "text": [
      "file-0rnC4t4yrNf6sKeOp15e1e6k\n"
     ]
    }
   ],
   "source": [
    "file_id = upload_file('Formatted_Customer_Feedback_Product_Ratings.csv')\n",
    "\n",
    "print(file_id)"
   ]
  },
  {
   "cell_type": "markdown",
   "id": "c808e135",
   "metadata": {},
   "source": [
    "### Create a run object to execute the thread"
   ]
  },
  {
   "cell_type": "code",
   "execution_count": 8,
   "id": "24f4851f",
   "metadata": {},
   "outputs": [],
   "source": [
    "assistant_id = create_assistant(file_id)"
   ]
  },
  {
   "cell_type": "code",
   "execution_count": 9,
   "id": "01dc3e60",
   "metadata": {},
   "outputs": [
    {
     "name": "stdout",
     "output_type": "stream",
     "text": [
      "asst_jXeHEmhkSd4jInUTot26ya58\n"
     ]
    }
   ],
   "source": [
    "print(assistant_id)"
   ]
  },
  {
   "cell_type": "code",
   "execution_count": 10,
   "id": "8aa24161",
   "metadata": {},
   "outputs": [
    {
     "name": "stdout",
     "output_type": "stream",
     "text": [
      "thread_F59H0kIlDLW5AI0UwMORrCg4\n"
     ]
    }
   ],
   "source": [
    "user_query = '''Can you create a heatmap image that illustrates the seasonal \n",
    "                trends in average customer ratings, segmented by month and year? \n",
    "                Supply the heatmap image as a downloadable file. Also supply any \n",
    "                Python code you generate as a downloadable file. I expect two\n",
    "                downloadable files.'''\n",
    "\n",
    "thread_id = query_assistant(assistant_id, user_query)\n",
    "print(thread_id)"
   ]
  },
  {
   "cell_type": "code",
   "execution_count": 11,
   "id": "c50ef3c2",
   "metadata": {},
   "outputs": [
    {
     "name": "stdout",
     "output_type": "stream",
     "text": [
      "run.id='run_eBB9oHWRk9Gfr5GFxAzxtTav' run.status='queued'\n",
      "run.id='run_eBB9oHWRk9Gfr5GFxAzxtTav' run.status='in_progress'\n",
      "run.id='run_eBB9oHWRk9Gfr5GFxAzxtTav' run.status='in_progress'\n",
      "run.id='run_eBB9oHWRk9Gfr5GFxAzxtTav' run.status='in_progress'\n",
      "run.id='run_eBB9oHWRk9Gfr5GFxAzxtTav' run.status='in_progress'\n",
      "run.id='run_eBB9oHWRk9Gfr5GFxAzxtTav' run.status='in_progress'\n",
      "run.id='run_eBB9oHWRk9Gfr5GFxAzxtTav' run.status='in_progress'\n",
      "run.id='run_eBB9oHWRk9Gfr5GFxAzxtTav' run.status='in_progress'\n",
      "run.id='run_eBB9oHWRk9Gfr5GFxAzxtTav' run.status='in_progress'\n",
      "run.id='run_eBB9oHWRk9Gfr5GFxAzxtTav' run.status='completed'\n",
      "SyncCursorPage[ThreadMessage](data=[ThreadMessage(id='msg_p8y2nA15PCICLsjYy0bmdZNE', assistant_id='asst_jXeHEmhkSd4jInUTot26ya58', content=[MessageContentText(text=Text(annotations=[TextAnnotationFilePath(end_index=165, file_path=TextAnnotationFilePathFilePath(file_id='file-oGAIGU8GHPKZqvaP9wV2Lrh2'), start_index=132, text='sandbox:/mnt/data/heatmap_code.py', type='file_path')], value=\"The Python code used to generate the heatmap has been saved. You can download it using the link below:\\n\\n[Download Python Code File](sandbox:/mnt/data/heatmap_code.py)\\n\\nPlease note that you will need to replace `'your_file_path.csv'` in the code with the actual path to your dataset when you want to run this code on your system.\"), type='text')], created_at=1703107869, file_ids=['file-oGAIGU8GHPKZqvaP9wV2Lrh2'], metadata={}, object='thread.message', role='assistant', run_id='run_eBB9oHWRk9Gfr5GFxAzxtTav', thread_id='thread_F59H0kIlDLW5AI0UwMORrCg4'), ThreadMessage(id='msg_AoJbjiqnG97V4MERVKoUJd6t', assistant_id='asst_jXeHEmhkSd4jInUTot26ya58', content=[MessageContentImageFile(image_file=ImageFile(file_id='file-8cu83PcJPFTQW3fgVxST4zbR'), type='image_file'), MessageContentText(text=Text(annotations=[TextAnnotationFilePath(end_index=248, file_path=TextAnnotationFilePathFilePath(file_id='file-DNd7XN5vcFAnMJ0uzsgzEsKT'), start_index=202, text='sandbox:/mnt/data/heatmap_customer_ratings.png', type='file_path')], value='The heatmap has been created and saved. You can download the heatmap image illustrating the seasonal trends in average customer ratings for the year 2021 using the link below:\\n\\n[Download Heatmap Image](sandbox:/mnt/data/heatmap_customer_ratings.png)\\n\\nNext, I will save the Python code used to generate the heatmap to a file that you can also download.'), type='text')], created_at=1703107843, file_ids=['file-DNd7XN5vcFAnMJ0uzsgzEsKT'], metadata={}, object='thread.message', role='assistant', run_id='run_eBB9oHWRk9Gfr5GFxAzxtTav', thread_id='thread_F59H0kIlDLW5AI0UwMORrCg4'), ThreadMessage(id='msg_9RARyAxxyir6kII7yNpluD3K', assistant_id='asst_jXeHEmhkSd4jInUTot26ya58', content=[MessageContentText(text=Text(annotations=[], value='It seems that the data only contains information for the year 2021. Thus, we have average ratings for each month for that year.\\n\\nWith these average ratings, I will now proceed to step 3: create a heatmap, and then move on to step 4: save the heatmap image and Python code as downloadable files.'), type='text')], created_at=1703107817, file_ids=[], metadata={}, object='thread.message', role='assistant', run_id='run_eBB9oHWRk9Gfr5GFxAzxtTav', thread_id='thread_F59H0kIlDLW5AI0UwMORrCg4'), ThreadMessage(id='msg_X6i0PKcG2a6gEBiqwhMSerNg', assistant_id='asst_jXeHEmhkSd4jInUTot26ya58', content=[MessageContentText(text=Text(annotations=[], value='The dataset contains several columns, including \"Customer ID\", \"Name\", \"Age Group\", \"Product ID\", \"Product Category\", \"Purchase Date\", \"Rating\", and \"Comment\". To create a heatmap of the seasonal trends in average customer ratings, we need to focus on the \"Purchase Date\" and \"Rating\" columns.\\n\\nI will proceed with the following steps:\\n1. Parse the \"Purchase Date\" column to extract the month and year.\\n2. Group the data by month and year to calculate the average rating for each combination.\\n3. Create the heatmap using the average ratings.\\n4. Save the heatmap image and the Python code as downloadable files.\\n\\nLet\\'s start by step 1 and 2.'), type='text')], created_at=1703107798, file_ids=[], metadata={}, object='thread.message', role='assistant', run_id='run_eBB9oHWRk9Gfr5GFxAzxtTav', thread_id='thread_F59H0kIlDLW5AI0UwMORrCg4'), ThreadMessage(id='msg_RW2Ztiq5Wt7IIdAuJoN1wQSv', assistant_id='asst_jXeHEmhkSd4jInUTot26ya58', content=[MessageContentText(text=Text(annotations=[], value=\"To create a heatmap that illustrates the seasonal trends in average customer ratings segmented by month and year, I will first need to examine the contents of the uploaded file to understand the data structure. Let's start by loading the file and inspecting the first few rows to determine the format and the available data fields.\"), type='text')], created_at=1703107786, file_ids=[], metadata={}, object='thread.message', role='assistant', run_id='run_eBB9oHWRk9Gfr5GFxAzxtTav', thread_id='thread_F59H0kIlDLW5AI0UwMORrCg4'), ThreadMessage(id='msg_vwuECXHZHURfu1zxdCi2LXJ5', assistant_id=None, content=[MessageContentText(text=Text(annotations=[], value='Can you create a heatmap image that illustrates the seasonal \\n                trends in average customer ratings, segmented by month and year? \\n                Supply the heatmap image as a downloadable file. Also supply any \\n                Python code you generate as a downloadable file. I expect two\\n                downloadable files.'), type='text')], created_at=1703107784, file_ids=[], metadata={}, object='thread.message', role='user', run_id=None, thread_id='thread_F59H0kIlDLW5AI0UwMORrCg4')], object='list', first_id='msg_p8y2nA15PCICLsjYy0bmdZNE', last_id='msg_vwuECXHZHURfu1zxdCi2LXJ5', has_more=False)\n"
     ]
    }
   ],
   "source": [
    "messages = run(assistant_id, thread_id)\n",
    "print(messages)"
   ]
  },
  {
   "cell_type": "code",
   "execution_count": 12,
   "id": "919e8a23",
   "metadata": {},
   "outputs": [
    {
     "name": "stdout",
     "output_type": "stream",
     "text": [
      "The Python code used to generate the heatmap has been saved. You can download it using the link below:\n",
      "\n",
      "[Download Python Code File](sandbox:/mnt/data/heatmap_code.py)\n",
      "\n",
      "Please note that you will need to replace `'your_file_path.csv'` in the code with the actual path to your dataset when you want to run this code on your system.\n",
      "The heatmap has been created and saved. You can download the heatmap image illustrating the seasonal trends in average customer ratings for the year 2021 using the link below:\n",
      "\n",
      "[Download Heatmap Image](sandbox:/mnt/data/heatmap_customer_ratings.png)\n",
      "\n",
      "Next, I will save the Python code used to generate the heatmap to a file that you can also download.\n",
      "It seems that the data only contains information for the year 2021. Thus, we have average ratings for each month for that year.\n",
      "\n",
      "With these average ratings, I will now proceed to step 3: create a heatmap, and then move on to step 4: save the heatmap image and Python code as downloadable files.\n",
      "The dataset contains several columns, including \"Customer ID\", \"Name\", \"Age Group\", \"Product ID\", \"Product Category\", \"Purchase Date\", \"Rating\", and \"Comment\". To create a heatmap of the seasonal trends in average customer ratings, we need to focus on the \"Purchase Date\" and \"Rating\" columns.\n",
      "\n",
      "I will proceed with the following steps:\n",
      "1. Parse the \"Purchase Date\" column to extract the month and year.\n",
      "2. Group the data by month and year to calculate the average rating for each combination.\n",
      "3. Create the heatmap using the average ratings.\n",
      "4. Save the heatmap image and the Python code as downloadable files.\n",
      "\n",
      "Let's start by step 1 and 2.\n",
      "To create a heatmap that illustrates the seasonal trends in average customer ratings segmented by month and year, I will first need to examine the contents of the uploaded file to understand the data structure. Let's start by loading the file and inspecting the first few rows to determine the format and the available data fields.\n",
      "Can you create a heatmap image that illustrates the seasonal \n",
      "                trends in average customer ratings, segmented by month and year? \n",
      "                Supply the heatmap image as a downloadable file. Also supply any \n",
      "                Python code you generate as a downloadable file. I expect two\n",
      "                downloadable files.\n"
     ]
    }
   ],
   "source": [
    "#loop and print the messages out\n",
    "for thread_message in messages.data:\n",
    "    # Accessing the content array within each ThreadMessage\n",
    "    for content in thread_message.content:\n",
    "        # Checking if the content type is MessageContentText\n",
    "        if content.type == 'text':\n",
    "            # Accessing the text attribute of the MessageContentText\n",
    "            text_content = content.text.value\n",
    "            print(text_content)"
   ]
  },
  {
   "cell_type": "markdown",
   "id": "1e4e2bbd",
   "metadata": {},
   "source": [
    "### Download the Python code generated by Code Interpreter tool"
   ]
  },
  {
   "cell_type": "code",
   "execution_count": 13,
   "id": "ecc13c12",
   "metadata": {},
   "outputs": [
    {
     "name": "stdout",
     "output_type": "stream",
     "text": [
      "File ID: file-oGAIGU8GHPKZqvaP9wV2Lrh2, File Path: sandbox:/mnt/data/heatmap_code.py\n",
      "File ID: file-DNd7XN5vcFAnMJ0uzsgzEsKT, File Path: sandbox:/mnt/data/heatmap_customer_ratings.png\n"
     ]
    }
   ],
   "source": [
    "for thread_message in messages.data:\n",
    "    # Accessing the content array within each ThreadMessage\n",
    "    for content in thread_message.content:\n",
    "        # Checking if the content type is 'text'\n",
    "        if content.type == 'text':\n",
    "            # Accessing the annotations within the text content\n",
    "            for annotation in content.text.annotations:\n",
    "                # Checking for file_path type in annotations\n",
    "                if annotation.type == 'file_path':\n",
    "                    # Extracting the file_id\n",
    "                    file_id = annotation.file_path.file_id\n",
    "                    # Extracting the file path\n",
    "                    file_path = annotation.text\n",
    "\n",
    "                    # Check if the file path contains '.png'\n",
    "                    if '.png' in file_path:\n",
    "                        image_file_id = file_id\n",
    "                        print(f\"File ID: {file_id}, File Path: {file_path}\")\n",
    "                    elif '.py' in file_path:\n",
    "                        code_file_id = file_id\n",
    "                        print(f\"File ID: {file_id}, File Path: {file_path}\")"
   ]
  },
  {
   "cell_type": "code",
   "execution_count": 14,
   "id": "4569d38a",
   "metadata": {},
   "outputs": [
    {
     "name": "stdout",
     "output_type": "stream",
     "text": [
      "file-DNd7XN5vcFAnMJ0uzsgzEsKT\n"
     ]
    }
   ],
   "source": [
    "print(image_file_id)"
   ]
  },
  {
   "cell_type": "code",
   "execution_count": 15,
   "id": "6858f143",
   "metadata": {},
   "outputs": [
    {
     "name": "stdout",
     "output_type": "stream",
     "text": [
      "file-oGAIGU8GHPKZqvaP9wV2Lrh2\n"
     ]
    }
   ],
   "source": [
    "print(code_file_id)"
   ]
  },
  {
   "cell_type": "code",
   "execution_count": 16,
   "id": "840bb6a0",
   "metadata": {},
   "outputs": [
    {
     "name": "stdout",
     "output_type": "stream",
     "text": [
      "<APIResponse [200 OK] type=<class 'str'>>\n"
     ]
    }
   ],
   "source": [
    "#get file name\n",
    "file_name = client.files.with_raw_response.retrieve_content(code_file_id) \n",
    "print(file_name)"
   ]
  },
  {
   "cell_type": "code",
   "execution_count": 17,
   "id": "3a303f5c",
   "metadata": {},
   "outputs": [],
   "source": [
    "#download and save the file locally\n",
    "with open(\"./code.py\", \"wb\") as file:  \n",
    "    file.write(file_name.content) "
   ]
  },
  {
   "cell_type": "markdown",
   "id": "aa0441e2",
   "metadata": {},
   "source": [
    "### Download the Heatmap image generated by Code Interpreter tool"
   ]
  },
  {
   "cell_type": "code",
   "execution_count": 18,
   "id": "c62fb4c9",
   "metadata": {},
   "outputs": [
    {
     "name": "stdout",
     "output_type": "stream",
     "text": [
      "<APIResponse [200 OK] type=<class 'str'>>\n"
     ]
    }
   ],
   "source": [
    "#get file name\n",
    "file_name = client.files.with_raw_response.retrieve_content(image_file_id) \n",
    "print(file_name)"
   ]
  },
  {
   "cell_type": "code",
   "execution_count": 19,
   "id": "91be9e0c",
   "metadata": {},
   "outputs": [],
   "source": [
    "#download and save the file locally\n",
    "with open(\"./heatmap.png\", \"wb\") as file:  \n",
    "    file.write(file_name.content) "
   ]
  },
  {
   "cell_type": "markdown",
   "id": "df738c47",
   "metadata": {},
   "source": [
    "#### Display image inline"
   ]
  },
  {
   "cell_type": "code",
   "execution_count": 20,
   "id": "ff97ac4b",
   "metadata": {},
   "outputs": [
    {
     "name": "stdout",
     "output_type": "stream",
     "text": [
      "./heatmap.png\n"
     ]
    },
    {
     "data": {
      "text/html": [
       "<img src=\"./heatmap.png\"/>"
      ],
      "text/plain": [
       "<IPython.core.display.Image object>"
      ]
     },
     "execution_count": 20,
     "metadata": {},
     "output_type": "execute_result"
    }
   ],
   "source": [
    "#display image inline\n",
    "from IPython.display import Image\n",
    "\n",
    "image = \"./heatmap.png\"\n",
    "print(image)\n",
    "\n",
    "Image(url=image)"
   ]
  },
  {
   "cell_type": "markdown",
   "id": "40a1fb92",
   "metadata": {},
   "source": [
    "### Clean up Assistants\n",
    "Do not leave Assistants or files running for longer periods"
   ]
  },
  {
   "cell_type": "code",
   "execution_count": 21,
   "id": "694c2f55",
   "metadata": {},
   "outputs": [
    {
     "data": {
      "text/plain": [
       "FileDeleted(id='file-DNd7XN5vcFAnMJ0uzsgzEsKT', deleted=True, object='file')"
      ]
     },
     "execution_count": 21,
     "metadata": {},
     "output_type": "execute_result"
    }
   ],
   "source": [
    "client.files.delete(image_file_id)"
   ]
  },
  {
   "cell_type": "code",
   "execution_count": 22,
   "id": "8feb6727",
   "metadata": {},
   "outputs": [
    {
     "data": {
      "text/plain": [
       "FileDeleted(id='file-oGAIGU8GHPKZqvaP9wV2Lrh2', deleted=True, object='file')"
      ]
     },
     "execution_count": 22,
     "metadata": {},
     "output_type": "execute_result"
    }
   ],
   "source": [
    "client.files.delete(code_file_id)"
   ]
  },
  {
   "cell_type": "code",
   "execution_count": 23,
   "id": "510a9a2c",
   "metadata": {},
   "outputs": [
    {
     "data": {
      "text/plain": [
       "AssistantDeleted(id='asst_jXeHEmhkSd4jInUTot26ya58', deleted=True, object='assistant.deleted')"
      ]
     },
     "execution_count": 23,
     "metadata": {},
     "output_type": "execute_result"
    }
   ],
   "source": [
    "client.beta.assistants.delete(assistant_id)"
   ]
  },
  {
   "cell_type": "code",
   "execution_count": 24,
   "id": "be4283c5",
   "metadata": {},
   "outputs": [
    {
     "data": {
      "text/plain": [
       "ThreadDeleted(id='thread_F59H0kIlDLW5AI0UwMORrCg4', deleted=True, object='thread.deleted')"
      ]
     },
     "execution_count": 24,
     "metadata": {},
     "output_type": "execute_result"
    }
   ],
   "source": [
    "client.beta.threads.delete(thread_id)"
   ]
  }
 ],
 "metadata": {
  "kernelspec": {
   "display_name": "Python 3 (ipykernel)",
   "language": "python",
   "name": "python3"
  },
  "language_info": {
   "codemirror_mode": {
    "name": "ipython",
    "version": 3
   },
   "file_extension": ".py",
   "mimetype": "text/x-python",
   "name": "python",
   "nbconvert_exporter": "python",
   "pygments_lexer": "ipython3",
   "version": "3.8.9"
  }
 },
 "nbformat": 4,
 "nbformat_minor": 5
}
